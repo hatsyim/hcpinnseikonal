{
 "cells": [
  {
   "cell_type": "code",
   "execution_count": 9,
   "id": "b40e1f08-f836-4781-9784-bcf1e58bb3b3",
   "metadata": {},
   "outputs": [
    {
     "name": "stdout",
     "output_type": "stream",
     "text": [
      "0.003125 0.003125 0.003125\n",
      "0.0125 0.009375000000000001 0.009375000000000001\n"
     ]
    }
   ],
   "source": [
    "import numpy as np\n",
    "import matplotlib.pyplot as plt\n",
    "\n",
    "sampling_rate=3\n",
    "\n",
    "vel = np.fromfile('../data/seam_arid', np.float32).reshape(400,400,600)\n",
    "vel = vel[::sampling_rate,::sampling_rate,::sampling_rate]\n",
    "\n",
    "# Original sampling was 6.25 m we used 3.125 m making the offset and depth values halved\n",
    "\n",
    "dx, dy, dz = 0.00625/2, 0.00625/2, 0.00625/2\n",
    "\n",
    "# Before further subsampling\n",
    "print(dx, dy, dz)\n",
    "\n",
    "x = np.arange(0,sampling_rate*dx*399,sampling_rate*dx)[::sampling_rate]\n",
    "y = np.arange(0,sampling_rate*dy*399,sampling_rate*dy)[::sampling_rate]\n",
    "z = np.arange(0,sampling_rate*dz*599,sampling_rate*dz)[::sampling_rate]\n",
    "\n",
    "dx, dy, dz = 4*0.00625/2, sampling_rate*0.00625/2, sampling_rate*0.00625/2\n",
    "\n",
    "# After further subsampling\n",
    "print(dx, dy, dz)\n",
    "\n",
    "# x.max(), y.max(), z.max()\n",
    "\n",
    "# idx, idy, idz = 10, 10, 10\n",
    "\n",
    "# plt.figure()\n",
    "# plt.imshow(vel[:,idy,:])\n",
    "# plt.colorbar()\n",
    "\n",
    "# plt.figure()\n",
    "# plt.imshow(vel[idx,:,:])\n",
    "# plt.colorbar()\n",
    "\n",
    "# plt.figure()\n",
    "# plt.imshow(vel[:,:,idz])\n",
    "# plt.colorbar()"
   ]
  },
  {
   "cell_type": "code",
   "execution_count": 15,
   "id": "728fcb37-eafe-4863-bbeb-726a304a7490",
   "metadata": {},
   "outputs": [
    {
     "data": {
      "text/plain": [
       "array([[3451.9194, 3451.9194, 3277.5347, ..., 1717.102 , 1717.102 ,\n",
       "        1717.102 ],\n",
       "       [3451.9194, 3277.5347, 3277.5347, ..., 1717.102 , 1717.102 ,\n",
       "        1717.102 ],\n",
       "       [3277.5347, 3277.5347, 3277.5347, ..., 1717.102 , 1717.102 ,\n",
       "        1717.102 ],\n",
       "       ...,\n",
       "       [4081.371 , 4081.371 , 4081.371 , ..., 4070.85  , 4070.85  ,\n",
       "        4070.85  ],\n",
       "       [4081.371 , 4081.371 , 4081.371 , ..., 4070.85  , 4070.85  ,\n",
       "        4070.85  ],\n",
       "       [4081.371 , 4081.371 , 4081.371 , ..., 4070.85  , 4070.85  ,\n",
       "        4070.85  ]], dtype=float32)"
      ]
     },
     "execution_count": 15,
     "metadata": {},
     "output_type": "execute_result"
    }
   ],
   "source": [
    "--max_offset=4.9875 \\\n",
    "--max_depth=1.865625 \\"
   ]
  },
  {
   "cell_type": "code",
   "execution_count": 20,
   "id": "b54f680f-4ecf-49ab-9177-73ad32421369",
   "metadata": {},
   "outputs": [],
   "source": [
    "# Computational model parameters\n",
    "zmin = 0; zmax = 1.865625 #; deltaz = args['vertical_spacing'];\n",
    "ymin = 0.; ymax = 4.9875 #; deltay = args['lateral_spacing'];\n",
    "xmin = 0.; xmax = 4.9875 #; deltax = args['lateral_spacing'];\n",
    "deltax, deltay, deltaz = 4*0.00625/2*4, 4*0.00625/2*4, 4*0.00625/2\n",
    "\n",
    "# Creating grid, extending the velocity model, and prepare list of grid points for training (X_star)\n",
    "z = np.arange(zmin,zmax,deltaz)\n",
    "nz = z.size\n",
    "\n",
    "y = np.arange(ymin,ymax,deltay)\n",
    "ny = y.size\n",
    "\n",
    "x = np.arange(xmin,xmax,deltax)\n",
    "nx = x.size"
   ]
  },
  {
   "cell_type": "code",
   "execution_count": 21,
   "id": "39ee4bb3-ccb8-4149-82c0-d9bfb0ed3788",
   "metadata": {},
   "outputs": [],
   "source": [
    "vel = np.fromfile('../data/seam_arid', np.float32).reshape(400,400,600)\n",
    "vel = vel[::4,::4,::4]"
   ]
  },
  {
   "cell_type": "code",
   "execution_count": 22,
   "id": "8fb9fe56-a51e-4a4d-a9d6-7e9a8eae1d75",
   "metadata": {},
   "outputs": [
    {
     "data": {
      "text/plain": [
       "(100, 100, 150)"
      ]
     },
     "execution_count": 22,
     "metadata": {},
     "output_type": "execute_result"
    }
   ],
   "source": [
    "vel.shape"
   ]
  },
  {
   "cell_type": "code",
   "execution_count": 23,
   "id": "2795f82e-ab62-4c11-aeee-f82bc886e651",
   "metadata": {},
   "outputs": [
    {
     "data": {
      "text/plain": [
       "(100,)"
      ]
     },
     "execution_count": 23,
     "metadata": {},
     "output_type": "execute_result"
    }
   ],
   "source": [
    "x.shape"
   ]
  },
  {
   "cell_type": "code",
   "execution_count": 24,
   "id": "25e8ead0-f82f-4edf-8060-770eafffd90f",
   "metadata": {},
   "outputs": [
    {
     "data": {
      "text/plain": [
       "(150,)"
      ]
     },
     "execution_count": 24,
     "metadata": {},
     "output_type": "execute_result"
    }
   ],
   "source": [
    "z.shape"
   ]
  },
  {
   "cell_type": "code",
   "execution_count": null,
   "id": "c4dfaef7-facb-47f8-8cbd-d49786455be6",
   "metadata": {},
   "outputs": [],
   "source": []
  }
 ],
 "metadata": {
  "kernelspec": {
   "display_name": "Python 3",
   "language": "python",
   "name": "python3"
  },
  "language_info": {
   "codemirror_mode": {
    "name": "ipython",
    "version": 3
   },
   "file_extension": ".py",
   "mimetype": "text/x-python",
   "name": "python",
   "nbconvert_exporter": "python",
   "pygments_lexer": "ipython3",
   "version": "3.8.15"
  }
 },
 "nbformat": 4,
 "nbformat_minor": 5
}
